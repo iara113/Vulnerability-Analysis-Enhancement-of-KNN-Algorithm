{
 "cells": [
  {
   "cell_type": "markdown",
   "id": "25ebc5b7",
   "metadata": {},
   "source": [
    "# Imports"
   ]
  },
  {
   "cell_type": "code",
   "execution_count": 2,
   "id": "40125a95",
   "metadata": {},
   "outputs": [],
   "source": [
    "import openml as oml\n",
    "import pandas as pd\n",
    "import seaborn as sns\n",
    "import numpy as np\n",
    "import matplotlib.pyplot as plt\n",
    "\n",
    "from pandas.api.types import is_numeric_dtype\n",
    "from random import seed\n",
    "from random import randrange\n",
    "from math import sqrt\n",
    "from numpy import array\n",
    "from numpy.linalg import norm\n",
    "from matplotlib.colors import ListedColormap\n",
    "from collections import Counter\n",
    "from sklearn.decomposition import PCA\n",
    "from sklearn import datasets\n",
    "from sklearn.model_selection import train_test_split, \\\n",
    " cross_val_score, GridSearchCV, RandomizedSearchCV,cross_validate,LeaveOneOut\n",
    "from sklearn.datasets import fetch_openml\n",
    "from sklearn.metrics import accuracy_score, precision_score, recall_score, confusion_matrix, mean_absolute_error,\\\n",
    "mean_squared_error, r2_score, f1_score,ConfusionMatrixDisplay,roc_curve,roc_auc_score, auc\n",
    "from sklearn.inspection import DecisionBoundaryDisplay\n",
    "from sklearn.utils import resample\n",
    "from sklearn.preprocessing import LabelEncoder\n",
    "from sklearn import preprocessing"
   ]
  },
  {
   "cell_type": "markdown",
   "id": "cf39b50d",
   "metadata": {},
   "source": [
    "# KNN - Classes"
   ]
  },
  {
   "cell_type": "markdown",
   "id": "91145bbd",
   "metadata": {},
   "source": [
    "### KNN - Caso Base (euclidean distance)"
   ]
  },
  {
   "cell_type": "code",
   "execution_count": 3,
   "id": "aceef884",
   "metadata": {},
   "outputs": [],
   "source": [
    "class KNN_Base:\n",
    "    def __init__(self, k):\n",
    "        self.k = k\n",
    "\n",
    "    def fit(self, X, y):\n",
    "        self.X_train = X\n",
    "        self.y_train = y\n",
    "        \n",
    "    def predict(self, X):\n",
    "        predictions = [self._predict(x) for x in X]\n",
    "        return predictions\n",
    "\n",
    "    def _predict(self, x):\n",
    "        # compute the distance\n",
    "        distances = [euclidean_distance(x, x_train) for x_train in self.X_train]\n",
    "        # get the closest k\n",
    "        k_indices = np.argsort(distances)[:self.k]\n",
    "        k_nearest_labels = [self.y_train[i] for i in k_indices]\n",
    "        unique_classes,counts=np.unique(k_nearest_labels, return_counts=True)\n",
    "        most_frequent_label=unique_classes[np.argmax(counts)]\n",
    "        return most_frequent_label\n",
    "    \n",
    "    def predict_proba(self, X):\n",
    "        y_proba = []\n",
    "        for sample in X:\n",
    "            distances = np.sqrt(np.sum(((self.X_train - sample)) ** 2, axis=1))\n",
    "            sorted_indices = np.argsort(distances)\n",
    "            k_indices = sorted_indices[:self.k]\n",
    "            k_nearest_classes = self.y_train[k_indices]\n",
    "            unique_classes, counts = np.unique(k_nearest_classes, return_counts=True)\n",
    "            class_frequencies = counts / self.k  # relative frequency of the classes\n",
    "            y_proba.append(class_frequencies)\n",
    "        return np.array(y_proba)"
   ]
  },
  {
   "cell_type": "markdown",
   "id": "7e553d8d",
   "metadata": {},
   "source": [
    "### KNN -  Bagging (diferentes distâncias)"
   ]
  },
  {
   "cell_type": "code",
   "execution_count": 4,
   "id": "8b7b0630",
   "metadata": {},
   "outputs": [],
   "source": [
    "class KNN_Bagging:\n",
    "    def __init__(self, k):\n",
    "        self.k = k\n",
    "        \n",
    "    def fit(self, X, y):\n",
    "        self.X_train = X\n",
    "        self.y_train = y\n",
    "        \n",
    "    def predict(self, X,i):\n",
    "        predictions = list()\n",
    "        for x in X:\n",
    "            if i==0:\n",
    "                # calculate distances to all training examples\n",
    "                distances = [euclidean_distance(x, x_train) for x_train in self.X_train]\n",
    "\n",
    "                # get k-nearest neighbors\n",
    "                k_indices = np.argsort(distances)[:self.k]\n",
    "                k_nearest_labels = [self.y_train[i] for i in k_indices]\n",
    "                unique_classes,counts=np.unique(k_nearest_labels, return_counts=True)\n",
    "                most_frequent_label=unique_classes[np.argmax(counts)]\n",
    "                predictions.append(most_frequent_label)\n",
    "                \n",
    "            elif i==1:\n",
    "                # calculate distances to all training examples\n",
    "                distances = [cosine_similarity(x, x_train) for x_train in self.X_train]\n",
    "\n",
    "                # get k-nearest neighbors\n",
    "                k_indices = np.argsort(distances)[:self.k]\n",
    "                k_nearest_labels = [self.y_train[i] for i in k_indices]\n",
    "                unique_classes,counts=np.unique(k_nearest_labels, return_counts=True)\n",
    "                most_frequent_label=unique_classes[np.argmax(counts)]\n",
    "                predictions.append(most_frequent_label)\n",
    "                \n",
    "            elif i==2:\n",
    "                # calculate distances to all training examples\n",
    "                distances = [manhattan_distance(x, x_train) for x_train in self.X_train]\n",
    "\n",
    "                # get k-nearest neighbors\n",
    "                k_indices = np.argsort(distances)[:self.k]\n",
    "                k_nearest_labels = [self.y_train[i] for i in k_indices]\n",
    "                unique_classes,counts=np.unique(k_nearest_labels, return_counts=True)\n",
    "                most_frequent_label=unique_classes[np.argmax(counts)]\n",
    "                predictions.append(most_frequent_label)\n",
    "                \n",
    "            elif i==3:\n",
    "                # calculate distances to all training examples\n",
    "                distances = [jaccard_distance(x, x_train) for x_train in self.X_train]\n",
    "\n",
    "                # get k-nearest neighbors\n",
    "                k_indices = np.argsort(distances)[:self.k]\n",
    "                k_nearest_labels = [self.y_train[i] for i in k_indices]\n",
    "                unique_classes,counts=np.unique(k_nearest_labels, return_counts=True)\n",
    "                most_frequent_label=unique_classes[np.argmax(counts)]\n",
    "                predictions.append(most_frequent_label)\n",
    "                \n",
    "            elif i==4:\n",
    "                distances = list()\n",
    "                for x_train in self.X_train:\n",
    "                    xMm = x_train - np.mean(self.X_train, axis=0)\n",
    "                    cov = np.cov(np.transpose(self.X_train))\n",
    "                    invcoveM = np.linalg.inv(cov)\n",
    "                    np.set_printoptions(suppress=True)\n",
    "                    tem1 = np.dot(xMm,invcoveM)\n",
    "                    tem2 = np.dot(tem1, np.transpose(xMm))\n",
    "                    MD = np.sqrt(tem2)\n",
    "                    resultado = np.reshape(MD,-1)\n",
    "                    resultado_final = float(np.reshape(MD,-1))\n",
    "                    distances.append(resultado_final)\n",
    "                # get k-nearest neighbors\n",
    "                k_indices = np.argsort(distances)[:self.k]\n",
    "                k_nearest_labels = [self.y_train[i] for i in k_indices]\n",
    "                unique_classes,counts=np.unique(k_nearest_labels, return_counts=True)\n",
    "                most_frequent_label=unique_classes[np.argmax(counts)]\n",
    "                most_common_str = str(most_frequent_label)\n",
    "                predictions.append(most_common_str)\n",
    "                \n",
    "        return predictions\n",
    "\n",
    "    def predict_proba(self, X):\n",
    "        y_proba = []\n",
    "        for sample in X:\n",
    "            distances = np.sqrt(np.sum(((self.X_train - sample)) ** 2, axis=1))\n",
    "            sorted_indices = np.argsort(distances)\n",
    "            k_indices = sorted_indices[:self.k]\n",
    "            k_nearest_classes = self.y_train[k_indices]\n",
    "            unique_classes, counts = np.unique(k_nearest_classes, return_counts=True)\n",
    "            class_frequencies = counts / self.k  # relative frequency of the classes\n",
    "            y_proba.append(class_frequencies)\n",
    "        return np.array(y_proba)"
   ]
  },
  {
   "cell_type": "markdown",
   "id": "96135552",
   "metadata": {},
   "source": [
    "# KNN - Features (diferentes atributos)"
   ]
  },
  {
   "cell_type": "code",
   "execution_count": 5,
   "id": "33a7b618",
   "metadata": {},
   "outputs": [],
   "source": [
    "class KNN_Features:\n",
    "    def __init__(self, k):\n",
    "        self.k = k\n",
    "\n",
    "    def fit(self, X, y):\n",
    "        self.X_train = X\n",
    "        self.y_train = y\n",
    "        \n",
    "    def predict(self, X):\n",
    "        predictions = [self._predict(x) for x in X]\n",
    "        return predictions\n",
    "    \n",
    "    def _predict(self, x):\n",
    "        predictions = list()\n",
    "        distances = [euclidean_distance_features(x, x_train) for x_train in self.X_train]\n",
    "        k_indices = np.argsort(distances)[:self.k]\n",
    "        k_nearest_labels = [self.y_train.reset_index(drop=True)[i] for i in k_indices]\n",
    "        k_nearest_labels = list(self.y_train.reset_index(drop=True).iloc[k_indices.ravel()])\n",
    "        unique_classes,counts=np.unique(k_nearest_labels, return_counts=True)\n",
    "        most_frequent_label=unique_classes[np.argmax(counts)]\n",
    "        most_common_str = str(most_frequent_label)\n",
    "        predictions.append(most_common_str)\n",
    "        return predictions\n",
    "\n",
    "    def predict_proba(self, X):\n",
    "        y_proba = []\n",
    "        for sample in X:\n",
    "            distances = np.sqrt(np.sum(((self.X_train - sample)) ** 2, axis=1))\n",
    "            sorted_indices = np.argsort(distances)\n",
    "            k_indices = sorted_indices[:self.k]\n",
    "            k_nearest_classes = self.y_train[k_indices]\n",
    "            unique_classes, counts = np.unique(k_nearest_classes, return_counts=True)\n",
    "            class_frequencies = counts / self.k  # relative frequency of the classes\n",
    "            y_proba.append(class_frequencies)\n",
    "        return np.array(y_proba)\n"
   ]
  },
  {
   "cell_type": "markdown",
   "id": "ced92f0b",
   "metadata": {},
   "source": [
    "# Cálculo das Distâncias"
   ]
  },
  {
   "cell_type": "code",
   "execution_count": 6,
   "id": "fe731864",
   "metadata": {},
   "outputs": [],
   "source": [
    "def euclidean_distance(p1, p2):\n",
    "    P1 = np. array(p1)\n",
    "    P2 = np. array(p2)\n",
    "    temp = P1 - P2\n",
    "    euclid_dist = np. sqrt(np.dot(temp.T, temp))\n",
    "    return euclid_dist\n"
   ]
  },
  {
   "cell_type": "code",
   "execution_count": 7,
   "id": "101aaf3e",
   "metadata": {},
   "outputs": [],
   "source": [
    "def euclidean_distance_features(p1, p2):\n",
    "    temp = p1 - p2[:, np.newaxis]\n",
    "    euclid_dist = np.sqrt(np.sum(temp ** 2, axis=-1))\n",
    "    return euclid_dist"
   ]
  },
  {
   "cell_type": "code",
   "execution_count": 8,
   "id": "1650a4d4",
   "metadata": {},
   "outputs": [],
   "source": [
    "def cosine_similarity(row1, row2):\n",
    "    norm1 = norm(row1)\n",
    "    norm2 = norm(row2)\n",
    "    if norm1 == 0 or norm2 == 0:\n",
    "        return 0  # avoid zero division\n",
    "    simi = np.dot(row1, row2) / (norm1 * norm2)\n",
    "    return simi"
   ]
  },
  {
   "cell_type": "code",
   "execution_count": 9,
   "id": "9ec54dc1",
   "metadata": {},
   "outputs": [],
   "source": [
    "def manhattan_distance(a,b):\n",
    "    return sum(abs(val1-val2) for val1,val2 in zip(a,b))"
   ]
  },
  {
   "cell_type": "code",
   "execution_count": 10,
   "id": "321aceb4",
   "metadata": {},
   "outputs": [],
   "source": [
    "def jaccard_distance(list1, list2):\n",
    "    intersection = len(list(set(list1).intersection(list2)))\n",
    "    union = (len(list1)+len(list2))-intersection\n",
    "    return float(intersection)/union"
   ]
  },
  {
   "cell_type": "markdown",
   "id": "057c0beb",
   "metadata": {},
   "source": [
    "# Estatísticas de Teste"
   ]
  },
  {
   "cell_type": "code",
   "execution_count": 11,
   "id": "8c841f7f",
   "metadata": {},
   "outputs": [],
   "source": [
    "def plot_ds2D(X,y):\n",
    "    pca = PCA(n_components=2)\n",
    "    pca_features = pca.fit_transform(X)\n",
    "    \n",
    "    pca_df = pd.DataFrame(\n",
    "        data=pca_features, \n",
    "        columns=['PC1', 'PC2'])\n",
    "    pca_df['target'] = y\n",
    "    pca_df['target'] = pca_df['target']\n",
    "    \n",
    "    sns.scatterplot(x=pca_df['PC1'],y=pca_df['PC2'],hue=pca_df['target'],palette=\"deep\")\n",
    "    plt.title('2D PCA Graph')\n",
    "    plt.show()"
   ]
  },
  {
   "cell_type": "code",
   "execution_count": 12,
   "id": "bf62899b",
   "metadata": {},
   "outputs": [],
   "source": [
    "def plot_cm(model_fit,X_test,y_test,y_train,predictions):\n",
    "    # Obtain unique classes\n",
    "    y_pred = predictions\n",
    "    unique_classes = np.unique(y_train)\n",
    "    cm = confusion_matrix(y_test, y_pred)\n",
    "    disp = ConfusionMatrixDisplay(confusion_matrix=cm,\n",
    "                                  display_labels=unique_classes)\n",
    "    disp.plot()\n",
    "    "
   ]
  },
  {
   "cell_type": "code",
   "execution_count": 13,
   "id": "ace1dd84",
   "metadata": {},
   "outputs": [],
   "source": [
    "def find_k_knn(X,y,caso,kmax=10):\n",
    "    k_values = [i for i in range (1,kmax+1)]\n",
    "    accuracies = list()\n",
    "    for k in k_values:\n",
    "        if caso == 1:\n",
    "            knn = KNN_Base(k)\n",
    "            accuracy,y_test,predictions,X_test,clf,X,Y,y_train = treino_caso_base(dataset,k)\n",
    "        elif caso == 2:\n",
    "            knn = KNN_Bagging(k)\n",
    "            accuracy,y_test,predictions,X_test,clf,X,Y,y_train = treino_bagging(dataset,k)\n",
    "        else:\n",
    "            knn = KNN_Features(k)\n",
    "            accuracy,y_test,predictions,X_test,clf,X,Y,y_train = treino_features(dataset,k)\n",
    "        accuracies.append(accuracy)\n",
    "\n",
    "    #Ploting the results of Cross Validation\n",
    "    sns.lineplot(x = k_values, y = accuracies, marker = 'o')\n",
    "    plt.xlabel(\"K Values\")\n",
    "    plt.ylabel(\"Accuracy Score of k-NN\")\n",
    "    plt.title('Estimates by Cross Validation')\n",
    "    \n",
    "    best_index = np.argmax(accuracies)    \n",
    "    best_k = k_values[best_index]    \n",
    "    print(f'Best k = {best_k}')"
   ]
  },
  {
   "cell_type": "code",
   "execution_count": 14,
   "id": "a6487a9d",
   "metadata": {},
   "outputs": [],
   "source": [
    "def plot_roc_curve(clf,X_test,y_test):\n",
    "\n",
    "    #obtain the probabilities (first column)\n",
    "    y_pred_prob = clf.predict_proba(X_test)\n",
    "    first_columns = [p[0] for p in y_pred_prob]\n",
    "\n",
    "    #convert no numeric\n",
    "    my_label = preprocessing.LabelEncoder() \n",
    "    y_test_encoded = my_label.fit_transform(y_test)\n",
    "    fpr, tpr,_= roc_curve(y_test_encoded, first_columns)\n",
    "    auc = roc_auc_score(y_test_encoded, first_columns)\n",
    "\n",
    "    #create ROC curve\n",
    "    plt.plot(fpr,tpr, label=\"AUC=\"+str(round(auc,3)))\n",
    "    plt.plot(np.linspace(0,1,5),np.linspace(0,1,5),linestyle='--',linewidth=2)\n",
    "    plt.title('ROC Curve')\n",
    "    plt.ylabel('True Positive Rate')\n",
    "    plt.xlabel('False Positive Rate')\n",
    "    plt.legend(loc=4)\n",
    "    plt.show()"
   ]
  },
  {
   "cell_type": "markdown",
   "id": "6bbf4089",
   "metadata": {},
   "source": [
    "# Comparação Entre os Modelos"
   ]
  },
  {
   "cell_type": "code",
   "execution_count": 15,
   "id": "fc492d09",
   "metadata": {},
   "outputs": [],
   "source": [
    "def find_k_knn_comparacao(X,y,kmax=10):\n",
    "    k_values = [i for i in range (1,kmax+1)]\n",
    "    accuracies_base = list()\n",
    "    accuracies_bagging = list()\n",
    "    accuracies_features = list()\n",
    "    for k in k_values:\n",
    "        knn_base = KNN_Base(k)\n",
    "        knn_bagging = KNN_Bagging(k)\n",
    "        knn_features = KNN_Features(k)\n",
    "        \n",
    "        accuracy_base,y_test,predictions,X_test,clf,X,Y,y_train = treino_caso_base(dataset,k)\n",
    "        accuracy_bagging,y_test,predictions,X_test,clf,X,Y,y_train = treino_bagging(dataset,k)\n",
    "        accuracy_features,y_test,predictons,X_test,clf,X,Y,y_train = treino_features(dataset,k)\n",
    "        \n",
    "        accuracies_base.append(accuracy_base)\n",
    "        accuracies_bagging.append(accuracy_bagging)\n",
    "        accuracies_features.append(accuracy_features)\n",
    "\n",
    "    #Ploting the results of Cross Validation\n",
    "    sns.lineplot(x = k_values, y = accuracies_base, marker = 'o')\n",
    "    sns.lineplot(x = k_values, y = accuracies_bagging, marker = 'o')\n",
    "    sns.lineplot(x = k_values, y = accuracies_features, marker = 'o')\n",
    "    plt.xlabel(\"K Values\")\n",
    "    plt.ylabel(\"Accuracy Score of k-NN\")\n",
    "    plt.title('Estimates by Cross Validation')\n",
    "    \n",
    "    best_index_base = np.argmax(accuracies_base)    \n",
    "    best_k_base = k_values[best_index_base] \n",
    "    best_index_bagging = np.argmax(accuracies_bagging)    \n",
    "    best_k_bagging = k_values[best_index_bagging] \n",
    "    best_index_features = np.argmax(accuracies_features)    \n",
    "    best_k_features = k_values[best_index_features] \n",
    "    print(f'Best k Caso Base = {best_k_base}')\n",
    "    print(f'Best k Bagging = {best_k_bagging}')\n",
    "    print(f'Best k Features = {best_k_features}')"
   ]
  },
  {
   "cell_type": "markdown",
   "id": "e0e37ed0",
   "metadata": {},
   "source": [
    "# Função Geral"
   ]
  },
  {
   "cell_type": "code",
   "execution_count": 16,
   "id": "93526919",
   "metadata": {},
   "outputs": [],
   "source": [
    "def estatisticas(dataset,k,caso):\n",
    "    if caso == 1:\n",
    "        accuracy,y_test,predictions,X_test,clf,X,Y,y_train = treino_caso_base(dataset,k)\n",
    "    elif caso == 2:\n",
    "        accuracy,y_test,predictions,X_test,clf,X,Y,y_train = treino_bagging(dataset,k)\n",
    "    else:\n",
    "        accuracy,y_test,predictions,X_test,clf,X,Y,y_train = treino_features(dataset,k)\n",
    "        \n",
    "    precision = precision_score(y_test, predictions, average='weighted', zero_division=1)\n",
    "    recall = recall_score(y_test, predictions, average='weighted')\n",
    "    er = 1-accuracy\n",
    "    cm1 = confusion_matrix(y_test, predictions)\n",
    "    sensitivity = cm1[0,0]/(cm1[0,0]+cm1[0,1])\n",
    "    specificity = cm1[1,1]/(cm1[1,0]+cm1[1,1])\n",
    "    \n",
    "    if not is_numeric_dtype(y_test):\n",
    "        f1 = f1_score(y_test, predictions, average='weighted')\n",
    "        print(\"F1-score:\", f1)\n",
    "        \n",
    "    print(\"Accuracy:\", accuracy)\n",
    "    print(\"Precision:\", precision)\n",
    "    print(\"Recall:\", recall)\n",
    "    print(\"Error Rate:\",er)\n",
    "    print('Sensitivity:', sensitivity)\n",
    "    print('Specificity:', specificity)\n",
    "    find_k_knn(X,Y,caso)"
   ]
  },
  {
   "cell_type": "code",
   "execution_count": 17,
   "id": "c8c11efa",
   "metadata": {},
   "outputs": [],
   "source": [
    "def estatisticas_2d_matrix(dataset,k,caso):\n",
    "    if caso == 1:\n",
    "        accuracy,y_test,predictions,X_test,clf,X,Y,y_train = treino_caso_base(dataset,k)\n",
    "    elif caso == 2:\n",
    "        accuracy,y_test,predictions,X_test,clf,X,Y,y_train = treino_bagging(dataset,k)\n",
    "    else:\n",
    "        accuracy,y_test,predictions,X_test,clf,X,Y,y_train = treino_features(dataset,k)\n",
    "        \n",
    "    precision = precision_score(y_test, predictions, average='weighted', zero_division=1)\n",
    "    recall = recall_score(y_test, predictions, average='weighted')\n",
    "    er = 1-accuracy\n",
    "    cm1 = confusion_matrix(y_test, predictions)\n",
    "    sensitivity = cm1[0,0]/(cm1[0,0]+cm1[0,1])\n",
    "    specificity = cm1[1,1]/(cm1[1,0]+cm1[1,1])\n",
    "    \n",
    "    plot_ds2D(X,Y)\n",
    "    plot_cm(clf,X_test,y_test,y_train,predictions)"
   ]
  },
  {
   "cell_type": "code",
   "execution_count": 18,
   "id": "fa13d676",
   "metadata": {},
   "outputs": [],
   "source": [
    "def estatisticas_roc_curve(dataset,k,caso):\n",
    "    if caso == 1:\n",
    "        accuracy,y_test,predictions,X_test,clf,X,Y,y_train = treino_caso_base(dataset,k)\n",
    "    elif caso == 2:\n",
    "        accuracy,y_test,predictions,X_test,clf,X,Y,y_train = treino_bagging(dataset,k)\n",
    "    else:\n",
    "        accuracy,y_test,predictions,X_test,clf,X,Y,y_train = treino_features(dataset,k)\n",
    "        \n",
    "    precision = precision_score(y_test, predictions, average='weighted', zero_division=1)\n",
    "    recall = recall_score(y_test, predictions, average='weighted')\n",
    "    er = 1-accuracy\n",
    "    cm1 = confusion_matrix(y_test, predictions)\n",
    "    sensitivity = cm1[0,0]/(cm1[0,0]+cm1[0,1])\n",
    "    specificity = cm1[1,1]/(cm1[1,0]+cm1[1,1])\n",
    "    \n",
    "    plot_roc_curve(clf,X_test,y_test)"
   ]
  },
  {
   "cell_type": "code",
   "execution_count": 19,
   "id": "08d572a0",
   "metadata": {},
   "outputs": [],
   "source": [
    "def estatisticas_comparacao(dataset,k,caso):\n",
    "    if caso == 1:\n",
    "        accuracy,y_test,predictions,X_test,clf,X,Y,y_train = treino_caso_base(dataset,k)\n",
    "    elif caso == 2:\n",
    "        accuracy,y_test,predictions,X_test,clf,X,Y,y_train = treino_bagging(dataset,k)\n",
    "    else:\n",
    "        accuracy,y_test,predictions,X_test,clf,X,Y,y_train = treino_features(dataset,k)\n",
    "        \n",
    "    precision = precision_score(y_test, predictions, average='weighted', zero_division=1)\n",
    "    recall = recall_score(y_test, predictions, average='weighted')\n",
    "    er = 1-accuracy\n",
    "    cm1 = confusion_matrix(y_test, predictions)\n",
    "    sensitivity = cm1[0,0]/(cm1[0,0]+cm1[0,1])\n",
    "    specificity = cm1[1,1]/(cm1[1,0]+cm1[1,1])\n",
    "\n",
    "    find_k_knn_comparacao(X,Y)"
   ]
  },
  {
   "cell_type": "markdown",
   "id": "1e87678b",
   "metadata": {},
   "source": [
    "# Treino dos Dados"
   ]
  },
  {
   "cell_type": "markdown",
   "id": "5ec5132c",
   "metadata": {},
   "source": [
    "### Treino dos Dados - Caso Base"
   ]
  },
  {
   "cell_type": "code",
   "execution_count": 20,
   "id": "852a5eeb",
   "metadata": {},
   "outputs": [],
   "source": [
    "def treino_caso_base(dataset,k):\n",
    "    \n",
    "    X, y, categorical_indicator, attribute_names = dataset.get_data(target=dataset.default_target_attribute)\n",
    "    df = pd.DataFrame(X, columns=attribute_names)\n",
    "    numeric_cols = [c for c in df.columns if is_numeric_dtype(df[c])]\n",
    "    X = df[numeric_cols].values\n",
    "    Y = y.to_numpy()\n",
    "\n",
    "    X_train, X_test, y_train, y_test = train_test_split(X, Y, test_size=0.3, random_state=1234)\n",
    "\n",
    "    clf = KNN_Base(k)\n",
    "    clf.fit(X_train, y_train)\n",
    "    predictions = clf.predict(X_test)\n",
    "\n",
    "    #print(\"predictions: \", predictions)\n",
    "    \n",
    "    result = Counter(predictions).most_common(1)[0][0]\n",
    "     \n",
    "    accuracy = accuracy_score(y_test, predictions)\n",
    "    return accuracy,y_test,predictions,X_test,clf,X,Y,y_train"
   ]
  },
  {
   "cell_type": "markdown",
   "id": "ea02f86a",
   "metadata": {},
   "source": [
    "### Treino dos Dados - Bagging"
   ]
  },
  {
   "cell_type": "code",
   "execution_count": 21,
   "id": "d341c558",
   "metadata": {},
   "outputs": [],
   "source": [
    "def treino_bagging(dataset,k):    \n",
    "    X, y, categorical_indicator, attribute_names = dataset.get_data(target=dataset.default_target_attribute)\n",
    "    df = pd.DataFrame(X, columns=attribute_names)\n",
    "    numeric_cols = [c for c in df.columns if is_numeric_dtype(df[c])]\n",
    "    X = df[numeric_cols].values\n",
    "    Y = y.to_numpy()\n",
    "\n",
    "    X_train, X_test, y_train, y_test = train_test_split(X, Y, test_size=0.3, random_state=1234)\n",
    "        \n",
    "\n",
    "    clf = KNN_Bagging(k)\n",
    "    clf.fit(X_train, y_train)\n",
    "\n",
    "    predictions_general = []\n",
    "\n",
    "    for i in range(5):\n",
    "        if i==0:\n",
    "            name = 'Euclidean Distance'\n",
    "        elif i==1:\n",
    "            name = 'Cosine Similarity'\n",
    "        elif i==2:\n",
    "            name = 'Manhattan Distance'\n",
    "        elif i==3:\n",
    "            name = 'Jaccard Distance'\n",
    "        elif i==4:\n",
    "            name = 'Mahalanobis Distance'\n",
    "\n",
    "        predictions = clf.predict(X_test, i)\n",
    "        #print(f\"{name} prediction: {predictions}\")\n",
    "        most_common = Counter(predictions).most_common(1)[0][0]\n",
    "        predictions_general.append(most_common)\n",
    "\n",
    "    accuracy = accuracy_score(y_test, predictions)\n",
    "\n",
    "    return accuracy,y_test,predictions,X_test,clf,X,Y,y_train"
   ]
  },
  {
   "cell_type": "markdown",
   "id": "43e34064",
   "metadata": {},
   "source": [
    "### Treino dos Dados - Features"
   ]
  },
  {
   "cell_type": "code",
   "execution_count": 22,
   "id": "68046390",
   "metadata": {},
   "outputs": [],
   "source": [
    "def knn_ensemble_bagging(X, y, n_neighbors, n_classifiers, sample_size):\n",
    "    \n",
    "    #subconjuntos de features aleatórias para cada classificador\n",
    "    n_samples, n_features = X.shape\n",
    "    feature_subsets = [np.random.choice(range(n_features), int(sample_size * n_features), replace=False) for _ in range(n_classifiers)]\n",
    "    classifiers = []\n",
    "\n",
    "    # creat a trainning sample with resampling\n",
    "    for features in feature_subsets:\n",
    "        X_subset = X[:, features]\n",
    "        X_resampled, y_resampled = resample(X_subset, y, n_samples=int(sample_size * n_samples), replace=True, random_state=42)\n",
    "        cls = KNN_Features(5)\n",
    "        cls.fit(X_resampled, y_resampled)\n",
    "        classifiers.append(cls)\n",
    "    \n",
    "    #Ensemble of classifiers\n",
    "    ensemble = Counter(classifiers).most_common(1)[0][0]\n",
    "    \n",
    "    return ensemble,cls\n",
    "\n",
    "\n",
    "\n",
    "\n",
    "def treino_features(dataset,k):\n",
    "    \n",
    "    # Assuming X and y are the feature data and target labels, respectively\n",
    "    X, y, categorical_indicator, attribute_names = dataset.get_data(target=dataset.default_target_attribute)\n",
    "    df = pd.DataFrame(X, columns=attribute_names)\n",
    "    numeric_cols = [c for c in df.columns if is_numeric_dtype(df[c])]\n",
    "    X = df[numeric_cols].values\n",
    "    Y = y.to_numpy()\n",
    "    X_train, X_test, y_train, y_test = train_test_split(X, y, test_size=0.2, random_state=1234)\n",
    "    \n",
    "    # Creating the KNN ensemble using bagging\n",
    "    ensemble,clf = knn_ensemble_bagging(X, y, k, 5, 0.8)\n",
    "    # Using the ensemble to make predictions\n",
    "    predictions = ensemble.predict(X_test)\n",
    "\n",
    "    # Evaluating the ensemble performance\n",
    "    accuracy = accuracy_score(y_test, predictions)\n",
    "    \n",
    "    return accuracy,y_test,predictions,X_test,clf,X,Y,y_train"
   ]
  },
  {
   "cell_type": "markdown",
   "id": "760f4420",
   "metadata": {},
   "source": [
    "# Teste em Datasets"
   ]
  },
  {
   "cell_type": "markdown",
   "id": "9ef9fb98",
   "metadata": {},
   "source": [
    "### Dataset 1"
   ]
  },
  {
   "cell_type": "markdown",
   "id": "7d9047af",
   "metadata": {},
   "source": [
    "#### Estatísticas Knn Base"
   ]
  },
  {
   "cell_type": "code",
   "execution_count": 23,
   "id": "70075205",
   "metadata": {},
   "outputs": [
    {
     "name": "stdout",
     "output_type": "stream",
     "text": [
      "F1-score: 0.5784563918757467\n",
      "Accuracy: 0.63\n",
      "Precision: 0.56097372633958\n",
      "Recall: 0.63\n",
      "Error Rate: 0.37\n",
      "Sensitivity: 0.1276595744680851\n",
      "Specificity: 0.8592233009708737\n",
      "Best k = 7\n"
     ]
    },
    {
     "data": {
      "image/png": "[encoded data removed]",
      "text/plain": [
       "<Figure size 640x480 with 1 Axes>"
      ]
     },
     "metadata": {},
     "output_type": "display_data"
    }
   ],
   "source": [
    "dataset = oml.datasets.get_dataset(31) \n",
    "caso = 1 # 1-caso_base 2-bagging 3-features\n",
    "estatisticas(dataset,5,caso)"
   ]
  },
  {
   "cell_type": "code",
   "execution_count": 24,
   "id": "5a766721",
   "metadata": {},
   "outputs": [
    {
     "data": {
      "image/png": "[encoded data removed]",
      "text/plain": [
       "<Figure size 640x480 with 1 Axes>"
      ]
     },
     "metadata": {},
     "output_type": "display_data"
    },
    {
     "data": {
      "image/png": "[encoded data removed]",
      "text/plain": [
       "<Figure size 640x480 with 2 Axes>"
      ]
     },
     "metadata": {},
     "output_type": "display_data"
    }
   ],
   "source": [
    "estatisticas_2d_matrix(dataset,5,caso)"
   ]
  },
  {
   "cell_type": "code",
   "execution_count": 25,
   "id": "2d758525",
   "metadata": {
    "scrolled": true
   },
   "outputs": [
    {
     "name": "stderr",
     "output_type": "stream",
     "text": [
      "C:\\Users\\carlo\\AppData\\Local\\Temp\\ipykernel_11968\\2166633411.py:33: VisibleDeprecationWarning: Creating an ndarray from ragged nested sequences (which is a list-or-tuple of lists-or-tuples-or ndarrays with different lengths or shapes) is deprecated. If you meant to do this, you must specify 'dtype=object' when creating the ndarray.\n",
      "  return np.array(y_proba)\n"
     ]
    },
    {
     "data": {
      "image/png": "[encoded data removed]",
      "text/plain": [
       "<Figure size 640x480 with 1 Axes>"
      ]
     },
     "metadata": {},
     "output_type": "display_data"
    }
   ],
   "source": [
    "estatisticas_roc_curve(dataset,5,caso)"
   ]
  },
  {
   "cell_type": "markdown",
   "id": "81c0679a",
   "metadata": {},
   "source": [
    "#### Estatísticas Knn - Bagging"
   ]
  },
  {
   "cell_type": "code",
   "execution_count": null,
   "id": "5cb3153e",
   "metadata": {},
   "outputs": [
    {
     "name": "stdout",
     "output_type": "stream",
     "text": [
      "F1-score: 0.5591040843214757\n",
      "Accuracy: 0.6866666666666666\n",
      "Precision: 0.7848444444444443\n",
      "Recall: 0.6866666666666666\n",
      "Error Rate: 0.31333333333333335\n",
      "Sensitivity: 0.0\n",
      "Specificity: 1.0\n"
     ]
    }
   ],
   "source": [
    "caso = 2\n",
    "estatisticas(dataset,5,caso)"
   ]
  },
  {
   "cell_type": "code",
   "execution_count": null,
   "id": "2da1c6ec",
   "metadata": {},
   "outputs": [],
   "source": [
    "estatisticas_2d_matrix(dataset,5,caso)"
   ]
  },
  {
   "cell_type": "code",
   "execution_count": null,
   "id": "7bf120ad",
   "metadata": {},
   "outputs": [],
   "source": [
    "estatisticas_roc_curve(dataset,5,caso)"
   ]
  },
  {
   "cell_type": "markdown",
   "id": "c9b72a8c",
   "metadata": {},
   "source": [
    "#### Estatísticas Knn - Features"
   ]
  },
  {
   "cell_type": "code",
   "execution_count": null,
   "id": "c950527b",
   "metadata": {},
   "outputs": [],
   "source": [
    "caso = 3\n",
    "estatisticas(dataset,5,caso)"
   ]
  },
  {
   "cell_type": "code",
   "execution_count": null,
   "id": "6a1f4ef1",
   "metadata": {},
   "outputs": [],
   "source": [
    "estatisticas_2d_matrix(dataset,5,caso)"
   ]
  },
  {
   "cell_type": "code",
   "execution_count": null,
   "id": "00401e49",
   "metadata": {},
   "outputs": [],
   "source": [
    "estatisticas_comparacao(dataset,5,caso)"
   ]
  },
  {
   "cell_type": "markdown",
   "id": "b8c16d0e",
   "metadata": {},
   "source": [
    "### Dataset 2"
   ]
  },
  {
   "cell_type": "markdown",
   "id": "145081de",
   "metadata": {},
   "source": [
    "#### Estatísticas Knn Base"
   ]
  },
  {
   "cell_type": "code",
   "execution_count": null,
   "id": "559cd175",
   "metadata": {},
   "outputs": [],
   "source": [
    "dataset = oml.datasets.get_dataset(37) \n",
    "caso = 1 # 1-caso_base 2-bagging 3-features\n",
    "estatisticas(dataset,5,caso)"
   ]
  },
  {
   "cell_type": "code",
   "execution_count": null,
   "id": "43ec081f",
   "metadata": {},
   "outputs": [],
   "source": [
    "estatisticas_2d_matrix(dataset,5,caso)"
   ]
  },
  {
   "cell_type": "markdown",
   "id": "e0697bda",
   "metadata": {},
   "source": [
    "#### Estatísticas Knn - Bagging"
   ]
  },
  {
   "cell_type": "code",
   "execution_count": null,
   "id": "69d4125e",
   "metadata": {},
   "outputs": [],
   "source": [
    "caso = 2\n",
    "estatisticas(dataset,5,caso)"
   ]
  },
  {
   "cell_type": "code",
   "execution_count": null,
   "id": "045be717",
   "metadata": {},
   "outputs": [],
   "source": [
    "estatisticas_2d_matrix(dataset,5,caso)"
   ]
  },
  {
   "cell_type": "markdown",
   "id": "fbd3d9d2",
   "metadata": {},
   "source": [
    "#### Estatísticas Knn - Features"
   ]
  },
  {
   "cell_type": "code",
   "execution_count": null,
   "id": "2d47137d",
   "metadata": {},
   "outputs": [],
   "source": [
    "caso = 3\n",
    "estatisticas(dataset,5,caso)"
   ]
  },
  {
   "cell_type": "code",
   "execution_count": null,
   "id": "c6d75012",
   "metadata": {},
   "outputs": [],
   "source": [
    "estatisticas_2d_matrix(dataset,5,caso)"
   ]
  },
  {
   "cell_type": "code",
   "execution_count": null,
   "id": "0d510958",
   "metadata": {},
   "outputs": [],
   "source": [
    "estatisticas_comparacao(dataset,5,caso)"
   ]
  },
  {
   "cell_type": "markdown",
   "id": "a4e36778",
   "metadata": {},
   "source": [
    "### Dataset 3"
   ]
  },
  {
   "cell_type": "markdown",
   "id": "e1b2944c",
   "metadata": {},
   "source": [
    "#### Estatísticas Knn Base"
   ]
  },
  {
   "cell_type": "code",
   "execution_count": null,
   "id": "7b9e371a",
   "metadata": {},
   "outputs": [],
   "source": [
    "dataset = oml.datasets.get_dataset(43) \n",
    "caso = 1 \n",
    "estatisticas(dataset,5,caso)"
   ]
  },
  {
   "cell_type": "code",
   "execution_count": null,
   "id": "1402a7fb",
   "metadata": {},
   "outputs": [],
   "source": [
    "estatisticas_2d_matrix(dataset,5,caso)"
   ]
  },
  {
   "cell_type": "code",
   "execution_count": null,
   "id": "92f82818",
   "metadata": {},
   "outputs": [],
   "source": [
    "estatisticas_roc_curve(dataset,5,caso)"
   ]
  },
  {
   "cell_type": "markdown",
   "id": "a0a60ac8",
   "metadata": {},
   "source": [
    "#### Estatísticas Knn - Bagging"
   ]
  },
  {
   "cell_type": "code",
   "execution_count": null,
   "id": "61d5e61e",
   "metadata": {},
   "outputs": [],
   "source": [
    "caso = 2\n",
    "estatisticas(dataset,5,caso)"
   ]
  },
  {
   "cell_type": "code",
   "execution_count": null,
   "id": "9a838ae5",
   "metadata": {},
   "outputs": [],
   "source": [
    "estatisticas_2d_matrix(dataset,5,caso)"
   ]
  },
  {
   "cell_type": "code",
   "execution_count": null,
   "id": "e559e90c",
   "metadata": {},
   "outputs": [],
   "source": [
    "estatisticas_roc_curve(dataset,5,caso)"
   ]
  },
  {
   "cell_type": "code",
   "execution_count": null,
   "id": "35abcc21",
   "metadata": {},
   "outputs": [],
   "source": [
    "estatisticas_comparacao(dataset,5,caso)"
   ]
  },
  {
   "cell_type": "markdown",
   "id": "72adefbc",
   "metadata": {},
   "source": [
    "#### Estatísticas Knn - Features"
   ]
  },
  {
   "cell_type": "code",
   "execution_count": null,
   "id": "498a5484",
   "metadata": {},
   "outputs": [],
   "source": [
    "caso = 3\n",
    "estatisticas(dataset,5,caso)"
   ]
  },
  {
   "cell_type": "code",
   "execution_count": null,
   "id": "3f60281f",
   "metadata": {},
   "outputs": [],
   "source": [
    "estatisticas_2d_matrix(dataset,5,caso)"
   ]
  },
  {
   "cell_type": "code",
   "execution_count": null,
   "id": "69800ebe",
   "metadata": {},
   "outputs": [],
   "source": [
    "estatisticas_comparacao(dataset,5,caso)"
   ]
  },
  {
   "cell_type": "markdown",
   "id": "7cdbe76d",
   "metadata": {},
   "source": [
    "### Dataset 4"
   ]
  },
  {
   "cell_type": "markdown",
   "id": "68e80a8b",
   "metadata": {},
   "source": [
    "#### Estatísticas Knn Base"
   ]
  },
  {
   "cell_type": "code",
   "execution_count": null,
   "id": "c614d9b0",
   "metadata": {},
   "outputs": [],
   "source": [
    "dataset = oml.datasets.get_dataset(12) \n",
    "caso = 1 \n",
    "estatisticas(dataset,5,caso)"
   ]
  },
  {
   "cell_type": "code",
   "execution_count": null,
   "id": "283b0a53",
   "metadata": {},
   "outputs": [],
   "source": [
    "estatisticas_2d_matrix(dataset,5,caso)"
   ]
  },
  {
   "cell_type": "markdown",
   "id": "a9adaf72",
   "metadata": {},
   "source": [
    "#### Estatísticas Knn - Bagging"
   ]
  },
  {
   "cell_type": "code",
   "execution_count": null,
   "id": "9797478b",
   "metadata": {},
   "outputs": [],
   "source": [
    "caso = 2\n",
    "estatisticas(dataset,5,caso)"
   ]
  },
  {
   "cell_type": "code",
   "execution_count": null,
   "id": "97a72f3e",
   "metadata": {},
   "outputs": [],
   "source": [
    "estatisticas_2d_matrix(dataset,5,caso)"
   ]
  },
  {
   "cell_type": "code",
   "execution_count": null,
   "id": "5240af06",
   "metadata": {},
   "outputs": [],
   "source": [
    "estatisticas_roc_curve(dataset,5,caso)"
   ]
  },
  {
   "cell_type": "code",
   "execution_count": null,
   "id": "cd6243d6",
   "metadata": {},
   "outputs": [],
   "source": [
    "estatisticas_comparacao(dataset,5,caso)"
   ]
  },
  {
   "cell_type": "markdown",
   "id": "91995e2c",
   "metadata": {},
   "source": [
    "#### Estatísticas Knn - Features"
   ]
  },
  {
   "cell_type": "code",
   "execution_count": null,
   "id": "04747b2c",
   "metadata": {},
   "outputs": [],
   "source": [
    "caso = 3\n",
    "estatisticas(dataset,5,caso)"
   ]
  },
  {
   "cell_type": "code",
   "execution_count": null,
   "id": "5a6dafa2",
   "metadata": {},
   "outputs": [],
   "source": [
    "estatisticas_comparacao(dataset,5,caso)"
   ]
  },
  {
   "cell_type": "markdown",
   "id": "f0b4e66f",
   "metadata": {},
   "source": [
    "### Dataset 5"
   ]
  },
  {
   "cell_type": "markdown",
   "id": "23441741",
   "metadata": {},
   "source": [
    "#### Estatísticas Knn Base"
   ]
  },
  {
   "cell_type": "code",
   "execution_count": null,
   "id": "a7a97e01",
   "metadata": {},
   "outputs": [],
   "source": [
    "dataset = oml.datasets.get_dataset(29) \n",
    "caso = 1\n",
    "estatisticas(dataset,5,caso) "
   ]
  },
  {
   "cell_type": "code",
   "execution_count": null,
   "id": "bc2e2307",
   "metadata": {},
   "outputs": [],
   "source": [
    "estatisticas_roc_curve(dataset,5,caso)"
   ]
  },
  {
   "cell_type": "markdown",
   "id": "df4ad6ed",
   "metadata": {},
   "source": [
    "#### Estatísticas Knn - Bagging"
   ]
  },
  {
   "cell_type": "code",
   "execution_count": null,
   "id": "89eedca3",
   "metadata": {},
   "outputs": [],
   "source": [
    "caso = 2\n",
    "estatisticas(dataset,5,caso) "
   ]
  },
  {
   "cell_type": "markdown",
   "id": "23145ee1",
   "metadata": {},
   "source": [
    "#### Estatísticas Knn - Features"
   ]
  },
  {
   "cell_type": "code",
   "execution_count": null,
   "id": "89d9a484",
   "metadata": {},
   "outputs": [],
   "source": [
    "caso = 3\n",
    "estatisticas(dataset,5,caso) "
   ]
  },
  {
   "cell_type": "code",
   "execution_count": null,
   "id": "bfabe367",
   "metadata": {},
   "outputs": [],
   "source": [
    "estatisticas_comparacao(dataset,5,caso)"
   ]
  }
 ],
 "metadata": {
  "kernelspec": {
   "display_name": "Python 3 (ipykernel)",
   "language": "python",
   "name": "python3"
  },
  "language_info": {
   "codemirror_mode": {
    "name": "ipython",
    "version": 3
   },
   "file_extension": ".py",
   "mimetype": "text/x-python",
   "name": "python",
   "nbconvert_exporter": "python",
   "pygments_lexer": "ipython3",
   "version": "3.10.9"
  }
 },
 "nbformat": 4,
 "nbformat_minor": 5
}
